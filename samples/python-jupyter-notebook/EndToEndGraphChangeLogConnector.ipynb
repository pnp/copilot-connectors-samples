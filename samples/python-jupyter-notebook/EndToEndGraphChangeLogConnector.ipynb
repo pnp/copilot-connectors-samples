{
 "cells": [
  {
   "cell_type": "code",
   "execution_count": null,
   "id": "dbab2f96-51e3-49c2-b3a8-1b2f6f78e7d6",
   "metadata": {},
   "outputs": [],
   "source": [
    "import feedparser\n",
    "import re\n",
    "import logging\n",
    "from bs4 import BeautifulSoup\n",
    "from datetime import datetime\n",
    "from typing import Generator\n",
    "from urllib.parse import urljoin\n",
    "import requests\n",
    "import json\n",
    "from requests.adapters import HTTPAdapter, Retry\n",
    "from dotenv import load_dotenv\n",
    "import os\n",
    "import asyncio\n",
    "from azure.identity.aio import ClientSecretCredential\n",
    "from msgraph import GraphServiceClient\n",
    "from kiota_abstractions.api_error import APIError\n",
    "from msgraph.generated.models.external_connectors.activity_settings import ActivitySettings\n",
    "from msgraph.generated.models.external_connectors.display_template import DisplayTemplate\n",
    "from msgraph.generated.models.external_connectors.external_connection import ExternalConnection\n",
    "from msgraph.generated.models.external_connectors.item_id_resolver import ItemIdResolver\n",
    "from msgraph.generated.models.external_connectors.search_settings import SearchSettings\n",
    "from msgraph.generated.models.external_connectors.url_match_info import UrlMatchInfo\n",
    "from msgraph.generated.models.external_connectors.schema import Schema\n",
    "from msgraph.generated.models.external_connectors.property_ import Property_\n",
    "from msgraph.generated.models.external_connectors.property_type import PropertyType\n",
    "from msgraph.generated.models.external_connectors.label import Label\n",
    "from msgraph.generated.models.json import Json\n",
    "\n",
    "from msgraph.generated.models.external_connectors.access_type import AccessType\n",
    "from msgraph.generated.models.external_connectors.acl import Acl\n",
    "from msgraph.generated.models.external_connectors.acl_type import AclType\n",
    "from msgraph.generated.models.external_connectors.external_activity import (\n",
    "    ExternalActivity,\n",
    ")\n",
    "from msgraph.generated.models.external_connectors.external_activity_type import (\n",
    "    ExternalActivityType,\n",
    ")\n",
    "from msgraph.generated.models.external_connectors.external_item import ExternalItem\n",
    "from msgraph.generated.models.external_connectors.external_item_content import (\n",
    "    ExternalItemContent,\n",
    ")\n",
    "from msgraph.generated.models.external_connectors.external_item_content_type import (\n",
    "    ExternalItemContentType,\n",
    ")\n",
    "from msgraph.generated.models.external_connectors.identity import Identity\n",
    "from msgraph.generated.models.external_connectors.identity_type import IdentityType\n",
    "from msgraph.generated.models.external_connectors.properties import Properties\n"
   ]
  },
  {
   "cell_type": "code",
   "execution_count": null,
   "id": "c1fdd65b-0b76-412b-8a94-b6eeeebbc99c",
   "metadata": {},
   "outputs": [],
   "source": [
    "load_dotenv()"
   ]
  },
  {
   "cell_type": "markdown",
   "id": "34a2a73b-cb78-424d-8680-2fd82462d40a",
   "metadata": {},
   "source": [
    "# Prepare the Data\n",
    "## EXTRACT\n",
    "### Microsoft Graph Public ChangeLog"
   ]
  },
  {
   "cell_type": "code",
   "execution_count": null,
   "id": "598257b5-94fa-45af-97f6-94385df6d12b",
   "metadata": {},
   "outputs": [],
   "source": [
    "#Microsoft Change Log RSS Feed\n",
    "#https://developer.microsoft.com/en-us/graph/changelog/rss\n",
    "# Pull in the RSS feed data using Feedparser and then explores the list channels\n",
    "# https://feedparser.readthedocs.io/en/latest/common-rss-elements.html#accessing-common-channel-elements\n",
    "msgraphchangelog = feedparser.parse(\"https://developer.microsoft.com/en-us/graph/changelog/rss\")\n",
    "docs = msgraphchangelog.entries"
   ]
  },
  {
   "cell_type": "code",
   "execution_count": null,
   "id": "ea570192-7451-450a-adab-5b8d4c062924",
   "metadata": {},
   "outputs": [],
   "source": [
    "## Test the data pull by inpection of a few elements\n",
    "mclentryone = msgraphchangelog.entries[1]\n",
    "mclentrytwo = msgraphchangelog.entries[2]"
   ]
  },
  {
   "cell_type": "code",
   "execution_count": null,
   "id": "b54a7f42-0204-4e9b-8451-9c4b938600cd",
   "metadata": {},
   "outputs": [],
   "source": [
    "mclentryone\n",
    "# Note the ID has beta appended to the GUID we will clean that up with a funciton later on"
   ]
  },
  {
   "cell_type": "code",
   "execution_count": null,
   "id": "5c20a526-f6f5-496c-b88f-75eaf07f0cf6",
   "metadata": {},
   "outputs": [],
   "source": [
    "mclentrytwo\n",
    "# Note the ID has v1.0 appended to the GUID we will clean that up with a funciton later on"
   ]
  },
  {
   "cell_type": "code",
   "execution_count": null,
   "id": "cea200e0-ef68-4ddd-8b79-b506117c7743",
   "metadata": {},
   "outputs": [],
   "source": [
    "# Count the number of items (entries) in the feed\n",
    "num_items = len(msgraphchangelog.entries)\n",
    "print(num_items)"
   ]
  },
  {
   "cell_type": "markdown",
   "id": "3ca8c070-c409-4136-8151-cdafc294a0e5",
   "metadata": {},
   "source": [
    "## Helper Functions needed in TRANSFORM stage later on for External Item"
   ]
  },
  {
   "cell_type": "code",
   "execution_count": null,
   "id": "f945b2a7-0161-4bda-9da4-f91e5a501787",
   "metadata": {},
   "outputs": [],
   "source": [
    "def remove_html_tags(text):\n",
    "    soup = BeautifulSoup(text, \"html.parser\")\n",
    "    return soup.get_text()"
   ]
  },
  {
   "cell_type": "code",
   "execution_count": null,
   "id": "8da575cc-f5e6-4683-8fdd-d68ab3e3072c",
   "metadata": {},
   "outputs": [],
   "source": [
    "def remove_lastfourinid(input_string):\n",
    "    input_string = input_string[:-4]\n",
    "    return input_string"
   ]
  },
  {
   "cell_type": "code",
   "execution_count": null,
   "id": "3400094f-a3e5-41d7-8d14-c0015cf7074e",
   "metadata": {},
   "outputs": [],
   "source": [
    "def convert_to_iso8601(date_str):\n",
    "    # Parse the date string to datetime object\n",
    "    dt = datetime.strptime(date_str, '%a, %d %b %Y %H:%M:%S Z')\n",
    "\n",
    "    # Convert to ISO 8601 format\n",
    "    iso8601_format = dt.isoformat() + \"Z\"  # Appending 'Z' to indicate UTC\n",
    "    return iso8601_format"
   ]
  },
  {
   "cell_type": "code",
   "execution_count": null,
   "id": "988d9a16-cb5f-453e-8520-85eca761560c",
   "metadata": {},
   "outputs": [],
   "source": [
    "def create_narrative(id,pd,tit,dscr):\n",
    "    cleanId = remove_lastfourinid(id)\n",
    "    dl = f\"https://developer.microsoft.com/en-us/graph/changelog/?search={cleanId}\"\n",
    "    cleanDate = convert_to_iso8601(pd)\n",
    "    narrative = f\"On {cleanDate} {tit} entered {dscr} with deeplink {dl}\"\n",
    "    return narrative"
   ]
  },
  {
   "cell_type": "code",
   "execution_count": null,
   "id": "c265cab8-495f-4a07-a782-fa358e4a1f21",
   "metadata": {},
   "outputs": [],
   "source": []
  },
  {
   "cell_type": "markdown",
   "id": "0f0912bd-4027-42bd-83b4-b54fc91fdf06",
   "metadata": {},
   "source": [
    "## Create Connection to Microsoft Graph\n",
    "### Setting up the Client"
   ]
  },
  {
   "cell_type": "code",
   "execution_count": null,
   "id": "4b796c88-6277-40ff-8767-5c187208e7f3",
   "metadata": {},
   "outputs": [],
   "source": [
    "credential = ClientSecretCredential(\n",
    "    os.getenv(\"TENANT_ID\"),\n",
    "    os.getenv(\"CLIENT_ID\"),\n",
    "    os.getenv(\"CLIENT_SECRET\")\n",
    ")\n",
    "scopes = ['https://graph.microsoft.com/.default']\n",
    "client = GraphServiceClient(credentials=credential, scopes=scopes)"
   ]
  },
  {
   "cell_type": "code",
   "execution_count": null,
   "id": "ace6d804-d398-4b6a-a8e2-f11c8965a624",
   "metadata": {},
   "outputs": [],
   "source": [
    "# Get the User ID needed as PerformedBy Identity\n",
    "user_id = os.getenv(\"USER_ID\")"
   ]
  },
  {
   "cell_type": "code",
   "execution_count": null,
   "id": "dacaa662-b6b3-4201-9fbb-63f308315b47",
   "metadata": {},
   "outputs": [],
   "source": [
    "#print(user_id)"
   ]
  },
  {
   "cell_type": "markdown",
   "id": "713114c3-7380-44e7-b977-1c65efe8966e",
   "metadata": {},
   "source": [
    "## Create the Graph Custom Connector\n",
    "### External Connection"
   ]
  },
  {
   "cell_type": "code",
   "execution_count": null,
   "id": "a1987018-b243-4ba0-b249-7204baa7e5b6",
   "metadata": {},
   "outputs": [],
   "source": [
    "external_connection = ExternalConnection(\n",
    "    id=\"fabsgclpython3\",\n",
    "    name=\"FabsGraphChangeLog Charlie\",\n",
    "    description=\"The official Microsoft Graph ChangeLog - Injested in Graph Connector for Copilot\",\n",
    "    activity_settings=ActivitySettings(\n",
    "        url_to_item_resolvers=[\n",
    "            ItemIdResolver(\n",
    "                odata_type=\"#microsoft.graph.externalConnectors.itemIdResolver\",\n",
    "                priority=1,\n",
    "                item_id=\"{slug}\",\n",
    "                url_match_info=UrlMatchInfo(\n",
    "                    base_urls=[\n",
    "                        \"https://developer.microsoft.com/en-us/graph/changelog\"\n",
    "                    ],\n",
    "                    url_pattern=\"/(?<slug>[^/]+)\"\n",
    "                )\n",
    "            )\n",
    "        ]\n",
    "    ),\n",
    "    search_settings=SearchSettings(\n",
    "      search_result_templates=[\n",
    "        DisplayTemplate(\n",
    "            id=\"fabsgclpython3\",\n",
    "            priority=1\n",
    "        )\n",
    "      ]\n",
    "    )\n",
    ")"
   ]
  },
  {
   "cell_type": "code",
   "execution_count": null,
   "id": "adf0cdaa-cb2a-48c5-8826-37ea2e9930de",
   "metadata": {},
   "outputs": [],
   "source": [
    "schema = Schema(\n",
    "  base_type=\"microsoft.graph.externalItem\",\n",
    "  properties=[\n",
    "    Property_(\n",
    "        name=\"title\",\n",
    "        type=PropertyType.String,\n",
    "        is_queryable=True,\n",
    "        is_searchable=True,\n",
    "        is_retrievable=True,\n",
    "        labels=[\n",
    "            Label.Title\n",
    "        ]\n",
    "    ),\n",
    "    Property_(\n",
    "        name=\"excerpt\",\n",
    "        type=PropertyType.String,\n",
    "        is_queryable=True,\n",
    "        is_searchable=True,\n",
    "        is_retrievable=True\n",
    "    ),\n",
    "    Property_(\n",
    "        name=\"imageUrl\",\n",
    "        type=PropertyType.String,\n",
    "        is_retrievable=True\n",
    "    ),\n",
    "    Property_(\n",
    "        name=\"url\",\n",
    "        type=PropertyType.String,\n",
    "        is_retrievable=True,\n",
    "        labels=[\n",
    "            Label.Url\n",
    "        ]\n",
    "    ),\n",
    "    Property_(\n",
    "        name=\"publishdate\",\n",
    "        type=PropertyType.DateTime,\n",
    "        is_queryable=True,\n",
    "        is_retrievable=True,\n",
    "        is_refinable=True,\n",
    "        labels=[\n",
    "            Label.LastModifiedDateTime\n",
    "        ]\n",
    "    ),\n",
    "    Property_(\n",
    "        name=\"tags\",\n",
    "        type=PropertyType.StringCollection,\n",
    "        is_queryable=True,\n",
    "        is_retrievable=True,\n",
    "        is_refinable=True\n",
    "    )\n",
    "  ]\n",
    ")"
   ]
  },
  {
   "cell_type": "markdown",
   "id": "c10442e8-aa12-44f2-82b8-8a39fa2cf7c3",
   "metadata": {},
   "source": [
    "## Functions to Create Connection and Schema\n",
    "#### resultLayout.json is the Adaptive Card that will render in the Verticals in Search"
   ]
  },
  {
   "cell_type": "code",
   "execution_count": null,
   "id": "09ca22da-b33a-4345-800b-cc2f53214d45",
   "metadata": {},
   "outputs": [],
   "source": [
    "async def _create_connection():\n",
    "    print(\"Creating connection...\")\n",
    "    with open(\"resultLayout.json\", \"r\", encoding='utf-8') as file:\n",
    "        adaptive_card = file.read()\n",
    "        layout = json.loads(adaptive_card)\n",
    "\n",
    "        assert external_connection.search_settings is not None\n",
    "        assert external_connection.search_settings.search_result_templates is not None\n",
    "\n",
    "        external_connection.search_settings.search_result_templates[0].layout = Json(\n",
    "            additional_data=layout\n",
    "        )\n",
    "\n",
    "    await client.external.connections.post(external_connection)\n",
    "    print(\"CONNECTION CREATION DONE\")"
   ]
  },
  {
   "cell_type": "code",
   "execution_count": null,
   "id": "ae044b12-4d0b-4039-937a-03f16effa429",
   "metadata": {},
   "outputs": [],
   "source": [
    "async def _create_schema():\n",
    "    print(\"Creating schema...\")\n",
    "\n",
    "    assert external_connection.id is not None\n",
    "    await client.external.connections.by_external_connection_id(external_connection.id).schema.patch(schema)\n",
    "    print(\"DONE\")"
   ]
  },
  {
   "cell_type": "code",
   "execution_count": null,
   "id": "f9b5eec1-9178-481a-917a-9f1f0eb5c03c",
   "metadata": {},
   "outputs": [],
   "source": [
    "# Function below executes both and will create the Connection and Schema "
   ]
  },
  {
   "cell_type": "code",
   "execution_count": null,
   "id": "0aa97d29-855e-4fc0-9ba8-0366e651ce94",
   "metadata": {},
   "outputs": [],
   "source": [
    "async def create_connection():\n",
    "    await _create_connection()\n",
    "    await _create_schema()"
   ]
  },
  {
   "cell_type": "code",
   "execution_count": null,
   "id": "938771c0-ba0e-46f8-9f35-7e086cdb414c",
   "metadata": {},
   "outputs": [],
   "source": [
    "#Run the Connection Setup Process as a Function\n",
    "#As of now this will throw an error at the very end due to a bug in the SDK\n",
    "#The Connection and Schema will be created successfully but the return code is broken in the SDK\n",
    "#it has been reported and a PR is underway\n",
    "createpoc1conn = await create_connection()"
   ]
  },
  {
   "cell_type": "code",
   "execution_count": null,
   "id": "3941e38f-d3f4-4c06-a583-9be56c5abf30",
   "metadata": {},
   "outputs": [],
   "source": [
    "#verify that the Microsoft Graph External Connector has been created\n",
    "print(external_connection.id)"
   ]
  },
  {
   "cell_type": "code",
   "execution_count": null,
   "id": "039a11fc-8692-45f3-8347-66407e8a4c76",
   "metadata": {},
   "outputs": [],
   "source": [
    "# BREAK IN CASE OF FIRE\n",
    "# Use this to delete the connection and start over\n",
    "#await client.external.connections.by_external_connection_id(external_connection.id).delete()"
   ]
  },
  {
   "cell_type": "code",
   "execution_count": null,
   "id": "7140dc4f-0fdc-4e51-969b-01c9ca0263c1",
   "metadata": {},
   "outputs": [],
   "source": []
  },
  {
   "cell_type": "markdown",
   "id": "b55c3ee5-74c2-4289-81f0-03d4108257c0",
   "metadata": {},
   "source": [
    "# Create the External Item\n",
    "## This is the TRANSFORM and LOAD Stage"
   ]
  },
  {
   "cell_type": "markdown",
   "id": "aee84cc7-4f1b-4f86-9423-a1463001cb1e",
   "metadata": {},
   "source": [
    "### Functions to Transform and Load"
   ]
  },
  {
   "cell_type": "code",
   "execution_count": null,
   "id": "db87d5f6-aa57-4940-b0a3-65652f4d684a",
   "metadata": {},
   "outputs": [],
   "source": [
    "def _transform(content) -> Generator[ExternalItem, None, None]:\n",
    "    # needed to properly format activity date\n",
    "    local_time_with_timezone = datetime.now().astimezone()\n",
    "\n",
    "    for logentry in msgraphchangelog.entries:\n",
    "        #print(logentry[\"published\"])\n",
    "        cleanDate = convert_to_iso8601(logentry.published)\n",
    "        cleanId = remove_lastfourinid(logentry.id)\n",
    "        dl = f\"https://developer.microsoft.com/en-us/graph/changelog/?search={cleanId}\"\n",
    "        creatednarr = create_narrative(logentry.id, logentry.published, logentry.title, logentry.description)\n",
    "        cleanCreatedNarr = remove_html_tags(creatednarr)\n",
    "        currentnarrative = remove_html_tags(logentry.description)\n",
    "        yield ExternalItem(\n",
    "            id=remove_lastfourinid(logentry.id),\n",
    "            properties=Properties(\n",
    "                additional_data={\n",
    "                    \"title\": logentry.title,\n",
    "                    \"excerpt\": cleanCreatedNarr,\n",
    "                    \"imageUrl\": \"https://raw.githubusercontent.com/microsoftgraph/g-raph/master/g-raph.png\",\n",
    "                    \"url\": dl,\n",
    "                    \"publishdate\": cleanDate\n",
    "                }\n",
    "            ),\n",
    "            content=ExternalItemContent(\n",
    "                type=ExternalItemContentType.Text, value=currentnarrative\n",
    "            ),\n",
    "            acl=[\n",
    "                Acl(\n",
    "                    type=AclType.Everyone,\n",
    "                    value=\"everyone\",\n",
    "                    access_type=AccessType.Grant,\n",
    "                )\n",
    "            ],\n",
    "            activities=[\n",
    "                ExternalActivity(\n",
    "                    odata_type=\"#microsoft.graph.externalConnectors.externalActivity\",\n",
    "                    type=ExternalActivityType.Created,\n",
    "                    start_date_time=cleanDate,\n",
    "                    performed_by=Identity(type=IdentityType.User, id=user_id),\n",
    "                )\n",
    "            ],\n",
    "        )"
   ]
  },
  {
   "cell_type": "code",
   "execution_count": null,
   "id": "5869ba1d-d8dd-4407-9843-4c190a55a979",
   "metadata": {},
   "outputs": [],
   "source": [
    "async def _load(content: Generator[ExternalItem, None, None]):\n",
    "    for doc in content:\n",
    "        try:\n",
    "            print(\"Loading %s...\", doc.id)\n",
    "            assert external_connection.id is not None\n",
    "            #Below print is for display purpoes only for the sake of the demo and leave behind\n",
    "            #It can be lengthy based on the amount of indexed item. consider commenting out\n",
    "            #print(\"Doc...\", doc)\n",
    "            assert doc.id is not None\n",
    "\n",
    "            await client.external.connections.by_external_connection_id(\n",
    "                external_connection.id\n",
    "            ).items.by_external_item_id(doc.id).put(doc)\n",
    "            print(\"DONE loading\")\n",
    "        except Exception as e:\n",
    "            print(\"Failed to load %s: %s\", doc.id, e)\n",
    "            return"
   ]
  },
  {
   "cell_type": "markdown",
   "id": "63e2fa31-d2f8-46a8-bd76-807983713d3d",
   "metadata": {},
   "source": [
    "### Do the Transform"
   ]
  },
  {
   "cell_type": "code",
   "execution_count": null,
   "id": "1754e82f-99bd-475f-beaf-510097b17b7f",
   "metadata": {},
   "outputs": [],
   "source": [
    "transformed = _transform(msgraphchangelog.entries)"
   ]
  },
  {
   "cell_type": "markdown",
   "id": "cabbfdc3-7119-40d7-b4e1-9899be9a47f4",
   "metadata": {},
   "source": [
    "### Do the Load\n",
    "#### For me this takes 1/2 hour for 1700 items"
   ]
  },
  {
   "cell_type": "code",
   "execution_count": null,
   "id": "9e78db65-73a8-4f62-9d4b-0ab9abc62724",
   "metadata": {},
   "outputs": [],
   "source": [
    "loadChangeLog = await _load(transformed)"
   ]
  },
  {
   "cell_type": "code",
   "execution_count": null,
   "id": "5265f38d-e855-4b2d-9bf9-1db9bce3127e",
   "metadata": {},
   "outputs": [],
   "source": [
    "print(loadChangeLog)"
   ]
  },
  {
   "cell_type": "code",
   "execution_count": null,
   "id": "ba6dc063-f25b-45c2-a615-9f7bea690603",
   "metadata": {},
   "outputs": [],
   "source": []
  }
 ],
 "metadata": {
  "kernelspec": {
   "display_name": "espc",
   "language": "python",
   "name": "espc"
  },
  "language_info": {
   "codemirror_mode": {
    "name": "ipython",
    "version": 3
   },
   "file_extension": ".py",
   "mimetype": "text/x-python",
   "name": "python",
   "nbconvert_exporter": "python",
   "pygments_lexer": "ipython3",
   "version": "3.11.5"
  }
 },
 "nbformat": 4,
 "nbformat_minor": 5
}
